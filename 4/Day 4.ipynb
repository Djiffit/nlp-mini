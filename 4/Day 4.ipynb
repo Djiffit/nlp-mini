{
 "cells": [
  {
   "cell_type": "code",
   "execution_count": 1,
   "metadata": {},
   "outputs": [],
   "source": [
    "import nltk"
   ]
  },
  {
   "cell_type": "code",
   "execution_count": 2,
   "metadata": {},
   "outputs": [],
   "source": [
    "cfg_rules = \"\"\"\n",
    "S -> NP-SBJ VP STOP \n",
    "NP -> CD JJ NN | CD JJ NNS\n",
    "NP-SBJ -> DT NN NN\n",
    "VP -> VBZ NP\n",
    "\n",
    "DT -> 'the' | 'a'\n",
    "NN -> 'purchase' | 'price' | 'guild' | 'strike'\n",
    "VBZ -> 'includes' | 'began'\n",
    "CD -> 'two'\n",
    "JJ -> 'ancillary'\n",
    "NNS -> 'companies'\n",
    "STOP -> '.'\n",
    "\"\"\"\n",
    "grammar  = nltk.CFG.fromstring(cfg_rules)\n"
   ]
  },
  {
   "cell_type": "code",
   "execution_count": 122,
   "metadata": {},
   "outputs": [],
   "source": [
    "cfg_rules = \"\"\"\n",
    "S -> NP-SBJ VP STOP | NP NP STOP\n",
    "NP -> CD JJ NN | CD JJ NNS | NP PP-DIR | DT NN | DT NN CC NN NN | NNP CD | DT NN VBD\n",
    "PP-DIR -> IN NP\n",
    "NP-SBJ -> DT NN NN | DT NN\n",
    "VP -> VBZ NP | VBD NP PP-TMP\n",
    "PP-TMP -> IN NP\n",
    "\n",
    "\n",
    "DT -> 'the' | 'a'\n",
    "NNP -> 'March'\n",
    "NN -> 'purchase' | 'price' | 'guild' | 'strike' | 'TV' | 'movie' | 'industry' | 'company'\n",
    "VBZ -> 'includes'\n",
    "VBD -> 'began' | 'bought'\n",
    "CD -> 'two' | '1988' | 'one'\n",
    "CC -> 'and'\n",
    "JJ -> 'ancillary'\n",
    "NNS -> 'companies'\n",
    "IN -> 'in' | 'against'\n",
    "STOP -> '.'\n",
    "\"\"\"\n",
    "grammar = nltk.CFG.fromstring(cfg_rules)\n"
   ]
  },
  {
   "cell_type": "code",
   "execution_count": 62,
   "metadata": {},
   "outputs": [
    {
     "data": {
      "text/plain": [
       "True"
      ]
     },
     "execution_count": 62,
     "metadata": {},
     "output_type": "execute_result"
    }
   ],
   "source": [
    "grammar.is_flexible_chomsky_normal_form()"
   ]
  },
  {
   "cell_type": "code",
   "execution_count": 6,
   "metadata": {},
   "outputs": [],
   "source": [
    "sentences = [\n",
    "    \"the purchase price includes two ancillary companies .\".split(),\n",
    "    \"the guild began a strike against the TV and movie industry in March 1988 .\".split(),\n",
    "]\n",
    "for s in sentences:\n",
    "    grammar.check_coverage(s)"
   ]
  },
  {
   "cell_type": "code",
   "execution_count": 120,
   "metadata": {},
   "outputs": [
    {
     "name": "stdout",
     "output_type": "stream",
     "text": [
      "True\n",
      "True\n"
     ]
    }
   ],
   "source": [
    "cfg_rules = \"\"\"\n",
    "S -> S1 STOP\n",
    "S1 -> NP-SBJ VP\n",
    "NP -> NP1 NN | NP1 NNS | NNP CD | NP PP-DIR | NP2 NN\n",
    "NP1 -> CD JJ\n",
    "NP2 -> NP3 NN\n",
    "NP3 -> NP4 CC\n",
    "NP4 -> DT NN\n",
    "PP-DIR -> IN NP\n",
    "NP-SBJ -> NP-SBJ1 NN | DT NN\n",
    "NP-SBJ1 -> DT NN\n",
    "VP -> VBZ NP | VP1 PP-TMP\n",
    "VP1 -> VBD NP\n",
    "PP-TMP -> IN NP\n",
    "\n",
    "DT -> 'the' | 'a'\n",
    "NNP -> 'March'\n",
    "NN -> 'purchase' | 'price' | 'guild' | 'strike' | 'TV' | 'movie' | 'industry' | 'company'\n",
    "VBZ -> 'includes'\n",
    "VBD -> 'began' | 'bought'\n",
    "CD -> 'two' | '1988' | 'one'\n",
    "CC -> 'and'\n",
    "JJ -> 'ancillary'\n",
    "NNS -> 'companies'\n",
    "IN -> 'in' | 'against'\n",
    "STOP -> '.'\n",
    "\"\"\"\n",
    "\n",
    "grammar = nltk.CFG.fromstring(cfg_rules)\n",
    "\n",
    "sentences = [\n",
    "    \"the purchase price includes two ancillary companies .\".split(),\n",
    "    \"the guild began a strike against the TV and movie industry in March 1988 .\".split(),\n",
    "    'the guild bought one ancillary company .'.split()\n",
    "]\n",
    "for s in sentences:\n",
    "    grammar.check_coverage(s)\n",
    "\n",
    "print(grammar.is_flexible_chomsky_normal_form())\n",
    "print(grammar.is_chomsky_normal_form())\n"
   ]
  },
  {
   "cell_type": "code",
   "execution_count": 154,
   "metadata": {},
   "outputs": [],
   "source": [
    "from nltk.parse.chart import BottomUpChartParser\n",
    "parser = BottomUpChartParser(grammar)\n",
    "\n",
    "sentences = ['the purchase price includes two ancillary companies .'.split(),\n",
    "                'the guild began a strike against the TV and movie industry in March 1988 .'.split(),\n",
    "                \"the purchase price includes two ancillary companies .\".split(),\n",
    "                'the guild bought one ancillary company .'.split()]\n",
    "\n",
    "for sent in sentences:\n",
    "    for p in parser.parse(sent):\n",
    "        p.draw()"
   ]
  },
  {
   "cell_type": "code",
   "execution_count": 8,
   "metadata": {},
   "outputs": [
    {
     "name": "stdout",
     "output_type": "stream",
     "text": [
      "(S\n",
      "  (NP-SBJ\n",
      "    (NP (NNP Pierre) (NNP Vinken))\n",
      "    (, ,)\n",
      "    (ADJP (NP (CD 61) (NNS years)) (JJ old))\n",
      "    (, ,))\n",
      "  (VP\n",
      "    (MD will)\n",
      "    (VP\n",
      "      (VB join)\n",
      "      (NP (DT the) (NN board))\n",
      "      (PP-CLR (IN as) (NP (DT a) (JJ nonexecutive) (NN director)))\n",
      "      (NP-TMP (NNP Nov.) (CD 29))))\n",
      "  (. .))\n",
      "(S\n",
      "  (NP-SBJ (NNP Mr.) (NNP Vinken))\n",
      "  (VP\n",
      "    (VBZ is)\n",
      "    (NP-PRD\n",
      "      (NP (NN chairman))\n",
      "      (PP\n",
      "        (IN of)\n",
      "        (NP\n",
      "          (NP (NNP Elsevier) (NNP N.V.))\n",
      "          (, ,)\n",
      "          (NP (DT the) (NNP Dutch) (VBG publishing) (NN group))))))\n",
      "  (. .))\n"
     ]
    }
   ],
   "source": [
    "from nltk.corpus import treebank\n",
    "print(treebank.parsed_sents()[0])\n",
    "print(treebank.parsed_sents()[1])"
   ]
  },
  {
   "cell_type": "code",
   "execution_count": 133,
   "metadata": {},
   "outputs": [],
   "source": [
    "from nltk.grammar import CFG, Nonterminal\n",
    "\n",
    "prods = list({production for sent in treebank.parsed_sents() for production in sent.productions()})\n",
    "t_grammar = CFG(Nonterminal('S'), prods)"
   ]
  },
  {
   "cell_type": "code",
   "execution_count": null,
   "metadata": {},
   "outputs": [],
   "source": []
  },
  {
   "cell_type": "code",
   "execution_count": 134,
   "metadata": {},
   "outputs": [],
   "source": [
    "sents = [\n",
    "    'Mr. Vinken is chairman .'.split(),\n",
    "    'Stocks rose .'.split(),\n",
    "    'Alan introduced a plan .'.split()\n",
    "]\n",
    "\n",
    "t_parser = BottomUpChartParser(t_grammar)\n",
    "\n",
    "    "
   ]
  },
  {
   "cell_type": "code",
   "execution_count": 131,
   "metadata": {},
   "outputs": [
    {
     "name": "stdout",
     "output_type": "stream",
     "text": [
      "(S\n",
      "  (NP-SBJ-1 (NP (NNP Mr.)) (FRAG (NP (NNP Vinken))))\n",
      "  (VP (VBZ is) (NP-CLR (NN chairman)))\n",
      "  (. .))\n",
      "(S\n",
      "  (NP-SBJ-1 (NP (NNP Mr.)) (FRAG (NP (NP (NNP Vinken)))))\n",
      "  (VP (VBZ is) (NP-CLR (NN chairman)))\n",
      "  (. .))\n",
      "(S\n",
      "  (NP-SBJ-1 (NP (NP (NNP Mr.))) (FRAG (NP (NNP Vinken))))\n",
      "  (VP (VBZ is) (NP-CLR (NN chairman)))\n",
      "  (. .))\n",
      "(S\n",
      "  (NP-SBJ-1 (NP (NP (NNP Mr.))) (FRAG (NP (NP (NNP Vinken)))))\n",
      "  (VP (VBZ is) (NP-CLR (NN chairman)))\n",
      "  (. .))\n",
      "(S\n",
      "  (NP-SBJ-1 (NP (NNP Mr.)) (FRAG (ADVP (NNP Vinken))))\n",
      "  (VP (VBZ is) (NP-CLR (NN chairman)))\n",
      "  (. .))\n",
      "32852\n"
     ]
    }
   ],
   "source": [
    "parses = 0\n",
    "for s in sents[:1]:\n",
    "    for p in t_parser.parse(s):\n",
    "        if parses < 5:\n",
    "            print(p)\n",
    "        parses += 1\n",
    "        \n",
    "print(parses)"
   ]
  },
  {
   "cell_type": "code",
   "execution_count": 12,
   "metadata": {},
   "outputs": [],
   "source": []
  },
  {
   "cell_type": "code",
   "execution_count": 150,
   "metadata": {},
   "outputs": [],
   "source": [
    "transitions = {}\n",
    "total = 0\n",
    "\n",
    "for sent in treebank.parsed_sents():\n",
    "    for parse in sent:\n",
    "        for prod in parse.productions():\n",
    "            if prod.lhs() == Nonterminal('S'):\n",
    "                total += 1\n",
    "                if transitions.get(prod.rhs()):\n",
    "                    transitions[prod.rhs()] += 1\n",
    "                else:\n",
    "                    transitions[prod.rhs()] = 1\n"
   ]
  },
  {
   "cell_type": "code",
   "execution_count": 153,
   "metadata": {},
   "outputs": [],
   "source": [
    "filt_trans = {}\n",
    "over_5 = 0\n",
    "for k, v in transitions.items():\n",
    "    if v >= 5:\n",
    "        filt_trans[k] = (v, v / total)\n",
    "    "
   ]
  },
  {
   "cell_type": "code",
   "execution_count": 145,
   "metadata": {},
   "outputs": [],
   "source": [
    "filt_trans = {k: (v, v/ over_5) for k, v in filt_trans.items()}"
   ]
  },
  {
   "cell_type": "code",
   "execution_count": 152,
   "metadata": {},
   "outputs": [
    {
     "data": {
      "text/plain": [
       "{(-NONE-,): (477, 0.09187211093990755),\n",
       " (NP-SBJ, ADJP-PRD): (46, 0.008859784283513097),\n",
       " (NP-SBJ, ADVP, VP): (51, 0.009822804314329739),\n",
       " (NP-SBJ, ADVP-MNR, VP): (5, 0.000963020030816641),\n",
       " (NP-SBJ, ADVP-TMP, VP): (55, 0.01059322033898305),\n",
       " (NP-SBJ, NP-PRD): (47, 0.009052388289676425),\n",
       " (NP-SBJ, PP-PRD): (5, 0.000963020030816641),\n",
       " (NP-SBJ, RB, VP): (5, 0.000963020030816641),\n",
       " (NP-SBJ, VP): (3387, 0.6523497688751926),\n",
       " (NP-SBJ, ``, VP): (16, 0.0030816640986132513),\n",
       " (NP-SBJ-1, ADVP, VP): (6, 0.0011556240369799693),\n",
       " (NP-SBJ-1, ADVP-TMP, VP): (6, 0.0011556240369799693),\n",
       " (NP-SBJ-1, VP): (368, 0.07087827426810478),\n",
       " (NP-SBJ-1, ``, VP): (5, 0.000963020030816641),\n",
       " (NP-SBJ-2, VP): (201, 0.03871340523882897),\n",
       " (NP-SBJ-3, VP): (66, 0.012711864406779662),\n",
       " (NP-SBJ-4, VP): (16, 0.0030816640986132513),\n",
       " (PP, ,, NP-SBJ, VP): (6, 0.0011556240369799693),\n",
       " (PP, NP-SBJ, VP): (5, 0.000963020030816641),\n",
       " (PP-TMP, ,, NP-SBJ, VP): (5, 0.000963020030816641),\n",
       " (PP-TMP, NP-SBJ, VP): (10, 0.001926040061633282),\n",
       " (S, ,, CC, S): (17, 0.0032742681047765792),\n",
       " (S, CC, S): (28, 0.00539291217257319),\n",
       " (S-NOM-SBJ, VP): (9, 0.0017334360554699538),\n",
       " (SBAR-ADV, ,, NP-SBJ, VP): (11, 0.00211864406779661),\n",
       " (SBAR-TMP, ,, NP-SBJ, VP): (6, 0.0011556240369799693)}"
      ]
     },
     "execution_count": 152,
     "metadata": {},
     "output_type": "execute_result"
    }
   ],
   "source": [
    "filt_trans"
   ]
  },
  {
   "cell_type": "code",
   "execution_count": 97,
   "metadata": {},
   "outputs": [],
   "source": [
    "from nltk import induce_pcfg\n",
    "from nltk import InsideChartParser\n",
    "\n",
    "prods = list({production for sent in treebank.parsed_sents() for production in sent.productions()})\n",
    "g_pfcg = induce_pcfg(Nonterminal('S'), prods)"
   ]
  },
  {
   "cell_type": "code",
   "execution_count": 110,
   "metadata": {},
   "outputs": [],
   "source": [
    "p_parser = InsideChartParser(g_pfcg, beam_size=400)\n"
   ]
  },
  {
   "cell_type": "code",
   "execution_count": 111,
   "metadata": {},
   "outputs": [
    {
     "name": "stdout",
     "output_type": "stream",
     "text": [
      "['Mr.', 'Vinken', 'is', 'chairman', '.']\n",
      "(S\n",
      "  (NP-TTL-SBJ (NNP Mr.) (NNP Vinken))\n",
      "  (VP (VP (VP (VP (VP (VBZ is)) (NP (NN chairman))))))\n",
      "  (. .)) (p=2.11819e-37)\n",
      "['Stocks', 'rose', '.']\n",
      "(S (NP-SBJ-112 (NNS Stocks)) (VP (VBD rose)) (. .)) (p=2.72739e-13)\n",
      "['Alan', 'introduced', 'a', 'plan', '.']\n"
     ]
    }
   ],
   "source": [
    "sents = [\n",
    "    'Mr. Vinken is chairman .'.split(),\n",
    "    'Stocks rose .'.split(),\n",
    "    'Alan introduced a plan .'.split()\n",
    "]\n",
    "\n",
    "for sent in sents:\n",
    "    print(sent)\n",
    "    for p in p_parser.parse(sent):\n",
    "        print(p)"
   ]
  },
  {
   "cell_type": "code",
   "execution_count": 93,
   "metadata": {},
   "outputs": [
    {
     "data": {
      "text/plain": [
       "[ProbabilisticTree('S', [ProbabilisticTree('NP-SBJ-112', [ProbabilisticTree('NNS', ['Stocks']) (p=0.0006939625260235947)]) (p=0.0006939625260235947), ProbabilisticTree('VP', [ProbabilisticTree('VBD', ['rose']) (p=0.0019342359767891683)]) (p=9.102286949596086e-07), ProbabilisticTree('.', ['.']) (p=0.3333333333333333)]) (p=2.727394664997107e-13)]"
      ]
     },
     "execution_count": 93,
     "metadata": {},
     "output_type": "execute_result"
    }
   ],
   "source": [
    "list(parse)"
   ]
  },
  {
   "cell_type": "code",
   "execution_count": 119,
   "metadata": {},
   "outputs": [
    {
     "data": {
      "text/plain": [
       "[ProbabilisticTree('S', [ProbabilisticTree('NP-SBJ-3', [ProbabilisticTree('PRP', ['you']) (p=0.04)]) (p=0.0012903225806451613), ProbabilisticTree('ADVP-TMP', [ProbabilisticTree('IN', ['are']) (p=0.008403361344537815)]) (p=0.00021547080370609782), ProbabilisticTree('VP', [ProbabilisticTree('VBG', ['sleeping']) (p=0.0017513134851138354)]) (p=8.241475224065108e-07)]) (p=2.968071686868129e-16),\n",
       " ProbabilisticTree('S', [ProbabilisticTree('NP-SBJ-3', [ProbabilisticTree('PRP', ['you']) (p=0.04)]) (p=0.0012903225806451613), ProbabilisticTree('ADVP', [ProbabilisticTree('IN', ['are']) (p=0.008403361344537815)]) (p=0.00014005602240896358), ProbabilisticTree('VP', [ProbabilisticTree('VBG', ['sleeping']) (p=0.0017513134851138354)]) (p=8.241475224065108e-07)]) (p=1.9292465964642834e-16),\n",
       " ProbabilisticTree('S', [ProbabilisticTree('NP-SBJ-2', [ProbabilisticTree('PRP', ['you']) (p=0.04)]) (p=0.0006557377049180328), ProbabilisticTree('ADVP', [ProbabilisticTree('IN', ['are']) (p=0.008403361344537815)]) (p=0.00014005602240896358), ProbabilisticTree('VP', [ProbabilisticTree('VBG', ['sleeping']) (p=0.0017513134851138354)]) (p=8.241475224065108e-07)]) (p=9.80436794924472e-17),\n",
       " ProbabilisticTree('S', [ProbabilisticTree('NP-SBJ', [ProbabilisticTree('PRP', ['you']) (p=0.04)]) (p=9.09090909090909e-05), ProbabilisticTree('ADVP-PRD', [ProbabilisticTree('IN', ['are']) (p=0.008403361344537815), ProbabilisticTree('NP', [ProbabilisticTree('VBG', ['sleeping']) (p=0.0017513134851138354)]) (p=1.1753781779287485e-06)]) (p=7.597790419707488e-10)]) (p=8.946997668049326e-17),\n",
       " ProbabilisticTree('S', [ProbabilisticTree('NP-SBJ', [ProbabilisticTree('PRP', ['you']) (p=0.04)]) (p=9.09090909090909e-05), ProbabilisticTree('ADVP-MNR', [ProbabilisticTree('IN', ['are']) (p=0.008403361344537815)]) (p=0.0005252100840336134), ProbabilisticTree('VP', [ProbabilisticTree('VBG', ['sleeping']) (p=0.0017513134851138354)]) (p=8.241475224065108e-07)]) (p=5.09715720088575e-17),\n",
       " ProbabilisticTree('S', [ProbabilisticTree('NP-SBJ', [ProbabilisticTree('PRP', ['you']) (p=0.04)]) (p=9.09090909090909e-05), ProbabilisticTree('ADVP-TMP', [ProbabilisticTree('IN', ['are']) (p=0.008403361344537815)]) (p=0.00021547080370609782), ProbabilisticTree('VP', [ProbabilisticTree('VBG', ['sleeping']) (p=0.0017513134851138354)]) (p=8.241475224065108e-07)]) (p=2.0911414157479998e-17),\n",
       " ProbabilisticTree('S', [ProbabilisticTree('NP-SBJ', [ProbabilisticTree('PRP', ['you']) (p=0.04)]) (p=9.09090909090909e-05), ProbabilisticTree('ADVP', [ProbabilisticTree('IN', ['are']) (p=0.008403361344537815)]) (p=0.00014005602240896358), ProbabilisticTree('VP', [ProbabilisticTree('VBG', ['sleeping']) (p=0.0017513134851138354)]) (p=8.241475224065108e-07)]) (p=1.3592419202361998e-17),\n",
       " ProbabilisticTree('S', [ProbabilisticTree('NP-SBJ', [ProbabilisticTree('PRP', ['you']) (p=0.04)]) (p=9.09090909090909e-05), ProbabilisticTree('PP', [ProbabilisticTree('IN', ['are']) (p=0.008403361344537815)]) (p=0.00010248001639680262), ProbabilisticTree('VP', [ProbabilisticTree('VBG', ['sleeping']) (p=0.0017513134851138354)]) (p=8.241475224065108e-07)]) (p=9.945672587094146e-18),\n",
       " ProbabilisticTree('S', [ProbabilisticTree('S-NOM-SBJ', [ProbabilisticTree('NP-SBJ', [ProbabilisticTree('PRP', ['you']) (p=0.04)]) (p=9.09090909090909e-05), ProbabilisticTree('VP', [ProbabilisticTree('VBP', ['are']) (p=0.003436426116838488)]) (p=1.6171417020416414e-06)]) (p=7.350644100189279e-11), ProbabilisticTree('ADJP-PRD', [ProbabilisticTree('VBG', ['sleeping']) (p=0.0017513134851138354)]) (p=2.110016247125103e-05)]) (p=2.0090645697193866e-18),\n",
       " ProbabilisticTree('S', [ProbabilisticTree('NP-SBJ', [ProbabilisticTree('NP-1', [ProbabilisticTree('PRP', ['you']) (p=0.04)]) (p=0.0014285714285714286), ProbabilisticTree('VP', [ProbabilisticTree('VBP', ['are']) (p=0.003436426116838488)]) (p=1.6171417020416414e-06)]) (p=5.250460071563771e-12), ProbabilisticTree('ADJP-PRD', [ProbabilisticTree('VBG', ['sleeping']) (p=0.0017513134851138354)]) (p=2.110016247125103e-05)]) (p=1.435046121228133e-19),\n",
       " ProbabilisticTree('S', [ProbabilisticTree('S-NOM-SBJ', [ProbabilisticTree('NP-SBJ', [ProbabilisticTree('PRP', ['you']) (p=0.04)]) (p=9.09090909090909e-05), ProbabilisticTree('VP', [ProbabilisticTree('VBP', ['are']) (p=0.003436426116838488)]) (p=1.6171417020416414e-06)]) (p=7.350644100189279e-11), ProbabilisticTree('VP', [ProbabilisticTree('VBG', ['sleeping']) (p=0.0017513134851138354)]) (p=8.241475224065108e-07)]) (p=7.847169848786309e-20),\n",
       " ProbabilisticTree('S', [ProbabilisticTree('NP-SBJ', [ProbabilisticTree('NP-1', [ProbabilisticTree('PRP', ['you']) (p=0.04)]) (p=0.0014285714285714286), ProbabilisticTree('VP', [ProbabilisticTree('VBP', ['are']) (p=0.003436426116838488)]) (p=1.6171417020416414e-06)]) (p=5.250460071563771e-12), ProbabilisticTree('VP', [ProbabilisticTree('VBG', ['sleeping']) (p=0.0017513134851138354)]) (p=8.241475224065108e-07)]) (p=5.605121320561649e-21)]"
      ]
     },
     "execution_count": 119,
     "metadata": {},
     "output_type": "execute_result"
    }
   ],
   "source": [
    "list(p_parser.parse(['you', 'are', 'sleeping']))"
   ]
  },
  {
   "cell_type": "code",
   "execution_count": null,
   "metadata": {},
   "outputs": [],
   "source": []
  }
 ],
 "metadata": {
  "kernelspec": {
   "display_name": "Python 3",
   "language": "python",
   "name": "python3"
  },
  "language_info": {
   "codemirror_mode": {
    "name": "ipython",
    "version": 3
   },
   "file_extension": ".py",
   "mimetype": "text/x-python",
   "name": "python",
   "nbconvert_exporter": "python",
   "pygments_lexer": "ipython3",
   "version": "3.6.4"
  }
 },
 "nbformat": 4,
 "nbformat_minor": 2
}
