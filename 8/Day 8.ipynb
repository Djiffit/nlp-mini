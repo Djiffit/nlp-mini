{
 "cells": [
  {
   "cell_type": "code",
   "execution_count": 2,
   "metadata": {},
   "outputs": [
    {
     "name": "stdout",
     "output_type": "stream",
     "text": [
      "Waxman Industries Inc. said holders of $6,542,000 face amount of its 6 1/4% convertible subordinated debentures, due <TIMEX>March 15, 2007</TIMEX>, have elected to convert the debt into about 683,000 common shares.\n",
      "Seventy-five million copies of the rifle have been built since it entered production in <TIMEX>February 1947</TIMEX>, making it history's most widely distributed weapon.\n",
      "Many of the local religious leaders who led the <TIMEX>1992</TIMEX> protests have moved.\n"
     ]
    }
   ],
   "source": [
    "import re\n",
    "\n",
    "sentences = [\n",
    "\"Waxman Industries Inc. said holders of $6,542,000 face amount of its 6 1/4% convertible subordinated debentures, due March 15, 2007, have elected to convert the debt into about 683,000 common shares.\",\n",
    "\"Seventy-five million copies of the rifle have been built since it entered production in February 1947, making it history's most widely distributed weapon.\",\n",
    "\"Many of the local religious leaders who led the 1992 protests have moved.\"\n",
    "]\n",
    "\n",
    "months = '(January|February|March|April|May|June|July|August|September|October|November|December)'\n",
    "timex = r'((%s\\s+)?(\\d{1,2},?\\s+)?\\d{4})' % months\n",
    "\n",
    "for s in sentences:\n",
    "    print (re.sub(timex, r'<TIMEX>\\1</TIMEX>', s))\n"
   ]
  },
  {
   "cell_type": "code",
   "execution_count": 74,
   "metadata": {},
   "outputs": [
    {
     "name": "stdout",
     "output_type": "stream",
     "text": [
      "The company said it expects to release <TIMEX>third-quarter</TIMEX> results in <TIMEX>mid-November</TIMEX>.\n",
      "The thrift announced the plan <TIMEX>Aug. 21</TIMEX>.\n",
      "The split and <TIMEX>quarter</TIMEX>ly dividend will be payable <TIMEX>Jan. 3</TIMEX> to stock of record <TIMEX>Nov. 16</TIMEX>, the company said.\n",
      "Ogden Projects, whose shares began trading on the New York Stock Exchange in <TIMEX>August</TIMEX>, closed <TIMEX>yesterday</TIMEX> at $26.875, down 75 cents.\n",
      "A spokeswoman for Crum amp Forster said employees were told early <TIMEX>this week</TIMEX> that numerous staff functions for the personal insurance lines were going to be centralized as a cost-cutting move.\n",
      "For <TIMEX>the quarter</TIMEX> ended <TIMEX>Sept. 30</TIMEX>, Delta posted net income of $133.1 million, or $2.53 a share, up from $100 million, or $2.03 a share, <TIMEX>a year earlier</TIMEX>.\n"
     ]
    }
   ],
   "source": [
    "new_sents = [\n",
    "    'The company said it expects to release third-quarter results in mid-November.',\n",
    "    'The thrift announced the plan Aug. 21.',\n",
    "    'The split and quarterly dividend will be payable Jan. 3 to stock of record Nov. 16, the company said.',\n",
    "    'Ogden Projects, whose shares began trading on the New York Stock Exchange in August, closed yesterday at $26.875, down 75 cents.',\n",
    "    'A spokeswoman for Crum amp Forster said employees were told early this week that numerous staff functions for the personal insurance lines were going to be centralized as a cost-cutting move.',\n",
    "    'For the quarter ended Sept. 30, Delta posted net income of $133.1 million, or $2.53 a share, up from $100 million, or $2.03 a share, a year earlier.'\n",
    "]\n",
    "\n",
    "mini_timex = r'((the |mid-|early |third-|a year |this |This |last |Last )?(now|today|earlier|week|yesterday|quarter|January|February|March|April|May|June|July|August|September|October|November|December|Aug\\.|Jan\\.|Nov\\.|Sept\\.|Dec\\.)+(\\s*([0-9])+)*)'\n",
    "\n",
    "for s in new_sents:\n",
    "    print (re.sub(mini_timex, r'<TIMEX>\\1</TIMEX>', s))"
   ]
  },
  {
   "cell_type": "code",
   "execution_count": 75,
   "metadata": {},
   "outputs": [],
   "source": [
    "import os\n",
    "\n",
    "path = 'dev/raw/'\n",
    "\n",
    "for filename in os.listdir(path):\n",
    "    with open(path + filename) as f:\n",
    "        lines = [re.sub(mini_timex, r'<TIMEX>\\1</TIMEX>', s) for s in  f.readlines()]\n",
    "        with open('dev/sub/' + filename.split('_')[0] + '_sub.txt', 'w+') as wf:\n",
    "            for l in lines:\n",
    "                wf.write(l)"
   ]
  },
  {
   "cell_type": "code",
   "execution_count": 76,
   "metadata": {},
   "outputs": [],
   "source": [
    "import os\n",
    "\n",
    "path = 'train/raw/'\n",
    "\n",
    "for filename in os.listdir(path):\n",
    "    with open(path + filename) as f:\n",
    "        lines = [re.sub(mini_timex, r'<TIMEX>\\1</TIMEX>', s) for s in  f.readlines()]\n",
    "        with open('train/sub/' + filename.split('_')[0] + '_sub.txt', 'w+') as wf:\n",
    "            for l in lines:\n",
    "                wf.write(l)"
   ]
  },
  {
   "cell_type": "code",
   "execution_count": 123,
   "metadata": {},
   "outputs": [],
   "source": [
    "import spacy\n",
    "from spacy.matcher import Matcher, PhraseMatcher\n",
    "from spacy_timex import markup_timex\n",
    "\n",
    "nlp = spacy.load(\"en_core_web_sm\")\n",
    "matcher = Matcher(nlp.vocab)"
   ]
  },
  {
   "cell_type": "code",
   "execution_count": 132,
   "metadata": {},
   "outputs": [
    {
     "ename": "TypeError",
     "evalue": "an integer is required",
     "output_type": "error",
     "traceback": [
      "\u001b[0;31m---------------------------------------------------------------------------\u001b[0m",
      "\u001b[0;31mTypeError\u001b[0m                                 Traceback (most recent call last)",
      "\u001b[0;32m<ipython-input-132-8df4bd2ac4b3>\u001b[0m in \u001b[0;36m<module>\u001b[0;34m()\u001b[0m\n\u001b[1;32m     12\u001b[0m \u001b[0mdate\u001b[0m \u001b[0;34m=\u001b[0m\u001b[0;34m[\u001b[0m\u001b[0;34m{\u001b[0m\u001b[0;34m**\u001b[0m\u001b[0mmonth\u001b[0m\u001b[0;34m}\u001b[0m\u001b[0;34m,\u001b[0m \u001b[0;34m{\u001b[0m\u001b[0;34m**\u001b[0m\u001b[0mday\u001b[0m\u001b[0;34m}\u001b[0m\u001b[0;34m]\u001b[0m\u001b[0;34m\u001b[0m\u001b[0m\n\u001b[1;32m     13\u001b[0m \u001b[0;34m\u001b[0m\u001b[0m\n\u001b[0;32m---> 14\u001b[0;31m \u001b[0mmatcher\u001b[0m\u001b[0;34m.\u001b[0m\u001b[0madd\u001b[0m\u001b[0;34m(\u001b[0m\u001b[0;34m\"TIMEX\"\u001b[0m\u001b[0;34m,\u001b[0m \u001b[0;32mNone\u001b[0m\u001b[0;34m,\u001b[0m \u001b[0mdate\u001b[0m\u001b[0;34m)\u001b[0m\u001b[0;34m\u001b[0m\u001b[0m\n\u001b[0m\u001b[1;32m     15\u001b[0m \u001b[0;34m\u001b[0m\u001b[0m\n\u001b[1;32m     16\u001b[0m \u001b[0;32mfor\u001b[0m \u001b[0ms\u001b[0m \u001b[0;32min\u001b[0m \u001b[0mnew_sents\u001b[0m\u001b[0;34m:\u001b[0m\u001b[0;34m\u001b[0m\u001b[0m\n",
      "\u001b[0;32mmatcher.pyx\u001b[0m in \u001b[0;36mspacy.matcher.Matcher.add\u001b[0;34m()\u001b[0m\n",
      "\u001b[0;32mmatcher.pyx\u001b[0m in \u001b[0;36mspacy.matcher.init_pattern\u001b[0;34m()\u001b[0m\n",
      "\u001b[0;31mTypeError\u001b[0m: an integer is required"
     ]
    }
   ],
   "source": [
    "sentences = [\n",
    "\"Waxman Industries Inc. said holders of $6,542,000 face amount of its 6 1/4% convertible subordinated debentures, due March 15, 2007, have elected to convert the debt into about 683,000 common shares.\",\n",
    "\"Seventy-five million copies of the rifle have been built since it entered production in February 1947, making it history's most widely distributed weapon.\",\n",
    "\"Many of the local religious leaders who led the 1992 protests have moved.\"\n",
    "]\n",
    "matcher = Matcher(nlp.vocab)\n",
    "\n",
    "month_regex = '(Jan|Aug\\.|February|March|April|May|June|July|August|September|October|November|December)'\n",
    "month = {\"LOWER\": {\"REGEX\": r'(Aug.\\)+'}}\n",
    "year = {\"SHAPE\": \"dddd\", \"<=\":\"2019\"}\n",
    "day = {\"SHAPE\": \"dd\", \">\":\"0\", \"<=\":\"31\"}\n",
    "date =[{**month}, {**day}]\n",
    "\n",
    "matcher.add(\"TIMEX\", None, date)\n",
    "\n",
    "for s in new_sents:\n",
    "    doc = nlp(s)\n",
    "    matches = matcher(doc)\n",
    "    print(markup_timex(doc, matches))"
   ]
  },
  {
   "cell_type": "code",
   "execution_count": null,
   "metadata": {},
   "outputs": [],
   "source": []
  }
 ],
 "metadata": {
  "kernelspec": {
   "display_name": "Python 3",
   "language": "python",
   "name": "python3"
  },
  "language_info": {
   "codemirror_mode": {
    "name": "ipython",
    "version": 3
   },
   "file_extension": ".py",
   "mimetype": "text/x-python",
   "name": "python",
   "nbconvert_exporter": "python",
   "pygments_lexer": "ipython3",
   "version": "3.6.4"
  }
 },
 "nbformat": 4,
 "nbformat_minor": 2
}
