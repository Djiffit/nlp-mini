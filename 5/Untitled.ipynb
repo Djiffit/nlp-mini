{
 "cells": [
  {
   "cell_type": "code",
   "execution_count": 3,
   "metadata": {},
   "outputs": [],
   "source": [
    "import nltk\n",
    "import numpy as np"
   ]
  },
  {
   "cell_type": "code",
   "execution_count": 4,
   "metadata": {},
   "outputs": [],
   "source": [
    "total_docs = 100\n",
    "total_relevant = 10\n",
    "\n",
    "retrieved = np.array(['R', 'N', 'N', 'R', 'R', 'N', 'N', 'N',\n",
    "             'R', 'N', 'R', 'N', 'N', 'R', 'R'])\n",
    "\n"
   ]
  },
  {
   "cell_type": "code",
   "execution_count": 14,
   "metadata": {},
   "outputs": [
    {
     "name": "stdout",
     "output_type": "stream",
     "text": [
      "Precision: 0.4666666666666667, recall: 0.7, F1: 0.56, Accuracy score: 0.92\n"
     ]
    }
   ],
   "source": [
    "precision = sum(retrieved == 'R') / len(retrieved)\n",
    "recall = sum(retrieved == 'R') / 10\n",
    "f1 = 2 * (precision * recall / (precision + recall))\n",
    "\n",
    "corr_class = (total_docs - sum(retrieved == 'N')) / total_docs\n",
    "\n",
    "print(f'Precision: {precision}, recall: {recall}, F1: {f1}, Accuracy score: {corr_class}')"
   ]
  },
  {
   "cell_type": "markdown",
   "metadata": {},
   "source": [
    "For binary classification the classes should preferably be equal size in the dataset in order for accuracy to be a reasonable metric. In this case, predicting 'Not relevant' for every single document yields 99.9% accuracy, so whatever algorithm is tasked to learn to solve the problem will most likely only learn to classify everything as 'Not relevant' and not solve the actual classification problem."
   ]
  },
  {
   "cell_type": "code",
   "execution_count": 20,
   "metadata": {},
   "outputs": [],
   "source": [
    "from nltk.corpus import treebank\n",
    "from nltk.tag.hmm import HiddenMarkovModelTagger\n",
    "from ass5utils import split_corpus\n",
    "from nltk.metrics import ConfusionMatrix\n",
    "\n",
    "training_sents, test_sents = split_corpus(treebank, 0.8)\n",
    "\n",
    "test_tokens = [t[0] for s in test_sents for t in s]\n",
    "correct_tags = [t[1] for s in test_sents for t in s]\n",
    "\n",
    "hmm_tagger = HiddenMarkovModelTagger.train(training_sents)\n"
   ]
  },
  {
   "cell_type": "code",
   "execution_count": 19,
   "metadata": {},
   "outputs": [],
   "source": []
  },
  {
   "cell_type": "code",
   "execution_count": null,
   "metadata": {},
   "outputs": [],
   "source": []
  }
 ],
 "metadata": {
  "kernelspec": {
   "display_name": "Python 3",
   "language": "python",
   "name": "python3"
  },
  "language_info": {
   "codemirror_mode": {
    "name": "ipython",
    "version": 3
   },
   "file_extension": ".py",
   "mimetype": "text/x-python",
   "name": "python",
   "nbconvert_exporter": "python",
   "pygments_lexer": "ipython3",
   "version": "3.6.4"
  }
 },
 "nbformat": 4,
 "nbformat_minor": 2
}
