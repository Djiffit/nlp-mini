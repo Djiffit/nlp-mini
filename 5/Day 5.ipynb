{
 "cells": [
  {
   "cell_type": "code",
   "execution_count": 2,
   "metadata": {},
   "outputs": [],
   "source": [
    "import nltk\n",
    "import numpy as np"
   ]
  },
  {
   "cell_type": "code",
   "execution_count": 3,
   "metadata": {},
   "outputs": [],
   "source": [
    "total_docs = 100\n",
    "total_relevant = 10\n",
    "\n",
    "retrieved = np.array(['R', 'N', 'N', 'R', 'R', 'N', 'N', 'N',\n",
    "             'R', 'N', 'R', 'N', 'N', 'R', 'R'])\n",
    "\n"
   ]
  },
  {
   "cell_type": "code",
   "execution_count": 4,
   "metadata": {},
   "outputs": [
    {
     "name": "stdout",
     "output_type": "stream",
     "text": [
      "Precision: 0.4666666666666667, recall: 0.7, F1: 0.56, Accuracy score: 0.92\n"
     ]
    }
   ],
   "source": [
    "precision = sum(retrieved == 'R') / len(retrieved)\n",
    "recall = sum(retrieved == 'R') / 10\n",
    "f1 = 2 * (precision * recall / (precision + recall))\n",
    "\n",
    "corr_class = (total_docs - sum(retrieved == 'N')) / total_docs\n",
    "\n",
    "print(f'Precision: {precision}, recall: {recall}, F1: {f1}, Accuracy score: {corr_class}')"
   ]
  },
  {
   "cell_type": "markdown",
   "metadata": {},
   "source": [
    "For binary classification the classes should preferably be equal size in the dataset in order for accuracy to be a reasonable metric. In this case, predicting 'Not relevant' for every single document yields 99.9% accuracy, so whatever algorithm is tasked to learn to solve the problem will most likely only learn to classify everything as 'Not relevant' and not solve the actual classification problem."
   ]
  },
  {
   "cell_type": "code",
   "execution_count": 31,
   "metadata": {},
   "outputs": [],
   "source": [
    "from nltk.corpus import treebank\n",
    "from nltk.tag.hmm import HiddenMarkovModelTagger\n",
    "from ass5utils import split_corpus, tagset\n",
    "from nltk.metrics import ConfusionMatrix\n",
    "\n",
    "training_sents, test_sents = split_corpus(treebank, 0.8)\n",
    "\n",
    "test_tokens = [t[0] for s in test_sents for t in s]\n",
    "correct_tags = [t[1] for s in test_sents for t in s]\n",
    "\n",
    "hmm_tagger = HiddenMarkovModelTagger.train(training_sents)\n",
    "predicted_tags = [t[1] for t in hmm_tagger.tag(test_tokens)]\n"
   ]
  },
  {
   "cell_type": "code",
   "execution_count": 146,
   "metadata": {},
   "outputs": [
    {
     "name": "stdout",
     "output_type": "stream",
     "text": [
      "Precision 0.9460803059273423 recall 0.8528093760772147 f1 0.8970268310369833, acc 0.8745371775417299\n"
     ]
    }
   ],
   "source": [
    "cm = ConfusionMatrix(reference=correct_tags, test=predicted_tags, sort_by_count=True)\n",
    "\n",
    "corr = 0\n",
    "total = 0\n",
    "unique_tags = set(correct_tags)\n",
    "\n",
    "for tag in unique_tags:\n",
    "    for tag2 in unique_tags:\n",
    "        if tag == tag2:\n",
    "            corr += cm[tag, tag2]\n",
    "        total += cm[tag, tag2]\n",
    "        \n",
    "acc = correct / total\n",
    "true_pos = cm['NN', 'NN']\n",
    "false_positive = sum(list(map(lambda tag: 0 if tag == 'NN' else cm[tag, 'NN'], unique_tags)))\n",
    "all_nn = sum(list(map(lambda tag: cm['NN', tag], unique_tags)))\n",
    "pre = true_pos / (true_pos + false_positive)\n",
    "rec = true_pos / all_nn\n",
    "f1 = 2 * pre * rec / (pre + rec)\n",
    "\n",
    "print(f'Precision {pre} recall {rec} f1 {f1}, acc {acc}')"
   ]
  },
  {
   "cell_type": "code",
   "execution_count": 147,
   "metadata": {},
   "outputs": [
    {
     "name": "stdout",
     "output_type": "stream",
     "text": [
      "     |                                                                                                   P              N                                              |\n",
      "     |              N         N              V                   V         V    V    P         P    V    R    W    J    N    J         W         R         P    R    W |\n",
      "     |    N    I    N    D    N    J    C    B    V    R    T    B    C    B    B    R    M    O    B    P    D    J    P    J    R    R    W    B    E    D    B    P |\n",
      "     |    N    N    P    T    S    J    D    D    B    B    O    N    C    Z    G    P    D    S    P    $    T    R    S    S    P    B    P    R    X    T    S    $ |\n",
      "-----+-----------------------------------------------------------------------------------------------------------------------------------------------------------------+\n",
      "  NN |<2474>  34   38   18   90  109   10    6   27    1    4   14    .    3   22    9    7   10    5    9    7    .    .    .    4    .    .    .    .    .    .    . |\n",
      "  IN |    .<1914>   .    1    1    2    .    1    3   20    .    .    .    .    .    .    .    .    .    .    .    .    .    .   10    .    .    .    .    .    .    . |\n",
      " NNP |   35   49<1402>  30   29   49    6   18   32    1   15    7    1   15    6   38   14   21    6    3   23    .    .    .    .    .    .    .    .    .    .    . |\n",
      "  DT |    5    4    .<1593>   .    .    .    .    .    2    .    .    .    .    .    .    .    .    .    .    6    .    .    .    .    .    .    .    .    1    .    . |\n",
      " NNS |   26   19   11    5 <965>  12    3    4   10    2    8   12    .   11    7    8    5    2    9    .    8    .    .    .    .    .    .    .    .    .    .    . |\n",
      "  JJ |   21   12   21   33    9 <872>   5    1   17   11    8   22    .    3    1    9    6   12    4   15    4    .    .    .    1    .    .    .    .    .    .    . |\n",
      "  CD |    1   19    2   29   18   19 <829>   6   58    .    2   13    .    3   12    2    .    1    1   17    .    .    .    .    .    .    .    .    .    .    .    . |\n",
      " VBD |    1    9    2    2    3    5    2 <642>   7    .    1   52    1    4    1    .    1    2    7    1    .    .    .    .    .    .    .    .    .    .    .    . |\n",
      "  VB |    3    4    1    2    .    4    1    2 <470>   .    .    5    .    .    .    .    .    .    3    1    1    .    .    .    1    .    .    .    .    .    .    . |\n",
      "  RB |    3   30    2    4    2    9    .    .    1 <403>   2    3    .    1    .    .    .    1    1    .    1    .    .    .   15    .    .    .    .    .    .    . |\n",
      "  TO |    .    .    .    .    .    .    .    .    .    . <464>   .    .    .    .    .    .    .    .    .    .    .    .    .    .    .    .    .    .    .    .    . |\n",
      " VBN |    3    5    1   13    7   36    1   25    4    3    2 <333>   .    2    6    2    .    1    .    1    1    .    .    .    6    .    .    .    .    .    .    . |\n",
      "  CC |    .    1    .    .    .    .    .    .    .    .    .    . <428>   .    .    .    .    .    .    .    .    .    .    .    .    .    .    .    .    .    .    . |\n",
      " VBZ |    1    2    1    3    5    2    1    3    4    .    .    2    . <295>   2    .    1    2    .    .    .    .    .    .    .    .    .    .    .    .    .    . |\n",
      " VBG |   25    8    1   13    3    8    3    .    4    .    .    9    .    3 <175>   1    .    1    1    5    .    .    .    .    1    .    .    .    .    .    .    . |\n",
      " PRP |    .    .    .    1    .    .    .    .    .    .    .    .    .    .    . <221>   .    .    .    .    .    .    .    .    .    .    .    .    .    .    .    . |\n",
      "  MD |    .    .    .    .    .    .    .    .    .    .    .    .    .    .    .    . <204>   .    .    .    .    .    .    .    .    .    .    .    .    .    .    . |\n",
      " POS |    .    .    .    .    .    .    .    .    .    .    .    .    .    7    .    .    . <189>   .    .    .    .    .    .    .    .    .    .    .    .    .    . |\n",
      " VBP |    9    2    .    .    .    .    .    2   15    .    .    1    .    1    .    2    1    . <132>   .    .    .    .    .    .    .    .    .    .    .    .    . |\n",
      "PRP$ |    .    .    .    .    .    .    .    .    .    .    .    .    .    .    .    .    .    .    . <122>   .    .    .    .    .    .    .    .    .    .    .    . |\n",
      " WDT |    .    8    .    3    .    .    .    .    .    .    .    .    .    .    .    .    .    .    .    .  <93>   .    .    .    .    .    .    .    .    .    .    . |\n",
      " JJR |    .    1    .    .    1    2    .    .    2    4    .    2    .    .    .    1    .    .    .    .    .  <60>   .    .    .    .    .    3    .    .    .    . |\n",
      "NNPS |    4    1   31    1   10    .    .    .    4    .    .    .    1    .    .    2    .    .    1    1    1    .   <7>   .    .    .    .    .    .    .    .    . |\n",
      " JJS |    3    .    .    .    .    .    .    .    .    1    .    .    .    .    .    .    .    .    .    .    .    .    .  <34>   .    .    .    .    .    .    .    . |\n",
      "  RP |    .   10    .    .    .    2    .    .    .    3    .    .    .    .    .    .    .    .    .    .    .    .    .    .  <19>   .    .    .    .    .    .    . |\n",
      " WRB |    .    .    .    1    .    .    .    .    1    .    .    .    .    .    .    .    .    .    .    .    .    .    .    .    .  <25>   .    .    .    .    .    . |\n",
      "  WP |    .    .    .    .    .    .    .    .    .    .    .    .    .    .    .    .    .    .    .    .    .    .    .    .    .    .  <26>   .    .    .    .    . |\n",
      " RBR |    .    1    .    .    .    .    .    .    1    2    .    .    .    .    .    .    .    .    .    .    .    7    .    .    .    .    .   <5>   .    .    .    . |\n",
      "  EX |    .    .    .    .    .    .    .    .    .    1    .    .    .    .    .    .    .    .    .    .    .    .    .    .    .    .    .    .   <6>   .    .    . |\n",
      " PDT |    1    1    .    .    .    2    .    .    1    .    .    .    .    .    .    .    .    .    .    .    .    .    .    .    .    .    .    .    .   <1>   .    . |\n",
      " RBS |    .    .    .    1    .    .    .    .    .    .    .    .    .    .    .    .    .    .    .    .    .    .    .    1    .    .    .    .    .    .   <3>   . |\n",
      " WP$ |    .    .    .    .    .    .    .    .    .    .    .    .    .    .    .    1    .    1    .    .    .    .    .    .    .    .    .    .    .    .    .   <2>|\n",
      "-----+-----------------------------------------------------------------------------------------------------------------------------------------------------------------+\n",
      "(row = reference; col = test)\n",
      "\n"
     ]
    }
   ],
   "source": [
    "print(cm.pretty_format(sort_by_count=True))"
   ]
  },
  {
   "cell_type": "code",
   "execution_count": 151,
   "metadata": {},
   "outputs": [],
   "source": [
    "from collections import Counter\n",
    "def random_tag(tokens):\n",
    "    return [tagset[np.random.randint(len(tagset))] for _ in tokens]\n",
    "\n",
    "def majority_tag(tokens):\n",
    "    counts = Counter()\n",
    "    for tag in training_sents:\n",
    "        for token in tag:\n",
    "            counts[token[1]] += 1\n",
    "    return [counts.most_common()[0][0]] * len(tokens)\n",
    "\n",
    "\n",
    "def score(predicted_tags, name):\n",
    "    acc = sum(np.array(predicted_tags) == np.array(correct_tags)) / len(predicted_tags)\n",
    "    print(f'Accuracy for {name} is {acc}')\n",
    "    return acc\n",
    "    "
   ]
  },
  {
   "cell_type": "code",
   "execution_count": 152,
   "metadata": {},
   "outputs": [
    {
     "name": "stdout",
     "output_type": "stream",
     "text": [
      "Accuracy for Majority is 0.17608497723823976\n",
      "Accuracy for Random is 0.028710166919575113\n"
     ]
    },
    {
     "data": {
      "text/plain": [
       "0.028710166919575113"
      ]
     },
     "execution_count": 152,
     "metadata": {},
     "output_type": "execute_result"
    }
   ],
   "source": [
    "score(majority_tag(test_tokens), 'Majority')\n",
    "score(random_tag(test_tokens), 'Random')"
   ]
  },
  {
   "cell_type": "code",
   "execution_count": 129,
   "metadata": {},
   "outputs": [],
   "source": [
    "test = list(zip(test_tokens, [None]*len(test_tokens)))\n",
    "log = hmm_tagger.log_probability(test)"
   ]
  },
  {
   "cell_type": "code",
   "execution_count": 132,
   "metadata": {},
   "outputs": [
    {
     "data": {
      "text/plain": [
       "1266.8944112578856"
      ]
     },
     "execution_count": 132,
     "metadata": {},
     "output_type": "execute_result"
    }
   ],
   "source": [
    "ppl = 2 ** (-log / len(test))\n",
    "ppl"
   ]
  },
  {
   "cell_type": "code",
   "execution_count": 142,
   "metadata": {},
   "outputs": [],
   "source": [
    "s1 = ['RB', 'RB', 'NNP', 'NNP', 'VB', 'VB', 'TO', 'VB', 'NNP', 'IN', 'VB', 'IN', 'NN', 'NN', 'VB', 'VB', 'JJ']\n",
    "s2 = ['RB', 'DT', 'JJ', 'NN', 'DT', 'VB', 'DT', 'JJ', 'NN', 'DT', 'JJ', 'VB', 'VB', 'TO', 'DT', 'NN']\n",
    "s3 = ['DT', 'JJ', 'NN', 'VB', 'DT', 'DT', 'VB', 'VB', 'DT', 'NN', 'DT', 'VB', 'DT', 'JJ', 'NNP']\n",
    "\n",
    "tags1 = ['IN', 'RB', 'NNP', 'NNP', 'VBZ', 'VBG', 'TO', 'VB', 'NNP', 'IN', 'VBG', 'DT', 'JJ', 'NN', 'IN', 'VBG', 'JJ']\n",
    "tags2 = ['IN', 'DT', 'JJ', 'NN', 'EX', 'VBP', 'JJ', 'JJ', 'NNS', 'IN', 'NN', 'VBZ', 'VBG', 'TO', 'DT', 'NN']\n",
    "tags3 = ['DT', 'JJ', 'NN', 'VBZ', 'IN', 'WP', 'MD', 'VB', 'DT', 'NN', 'CC', 'VB', 'PRP$', 'JJ', 'NNS']\n",
    "\n",
    "me = np.array(s1 + s2 + s3)\n",
    "gold = np.array(tags1 + tags2 + tags3)\n",
    "\n",
    "assert(len(me) == len(gold))\n",
    "\n",
    "acc = sum(me == gold) / len(me)"
   ]
  },
  {
   "cell_type": "code",
   "execution_count": 143,
   "metadata": {},
   "outputs": [
    {
     "name": "stdout",
     "output_type": "stream",
     "text": [
      "0.5\n"
     ]
    }
   ],
   "source": [
    "print(acc)"
   ]
  },
  {
   "cell_type": "code",
   "execution_count": 144,
   "metadata": {},
   "outputs": [
    {
     "data": {
      "text/plain": [
       "array(['RB', 'RB', 'NNP', 'NNP', 'VB', 'VB', 'TO', 'VB', 'NNP', 'IN',\n",
       "       'VB', 'IN', 'NN', 'NN', 'VB', 'VB', 'JJ', 'RB', 'DT', 'JJ', 'NN',\n",
       "       'DT', 'VB', 'DT', 'JJ', 'NN', 'DT', 'JJ', 'VB', 'VB', 'TO', 'DT',\n",
       "       'NN', 'DT', 'JJ', 'NN', 'VB', 'DT', 'DT', 'VB', 'VB', 'DT', 'NN',\n",
       "       'DT', 'VB', 'DT', 'JJ', 'NNP'], dtype='<U3')"
      ]
     },
     "execution_count": 144,
     "metadata": {},
     "output_type": "execute_result"
    }
   ],
   "source": [
    "me"
   ]
  },
  {
   "cell_type": "code",
   "execution_count": 145,
   "metadata": {},
   "outputs": [
    {
     "data": {
      "text/plain": [
       "array(['IN', 'RB', 'NNP', 'NNP', 'VBZ', 'VBG', 'TO', 'VB', 'NNP', 'IN',\n",
       "       'VBG', 'DT', 'JJ', 'NN', 'IN', 'VBG', 'JJ', 'IN', 'DT', 'JJ', 'NN',\n",
       "       'EX', 'VBP', 'JJ', 'JJ', 'NNS', 'IN', 'NN', 'VBZ', 'VBG', 'TO',\n",
       "       'DT', 'NN', 'DT', 'JJ', 'NN', 'VBZ', 'IN', 'WP', 'MD', 'VB', 'DT',\n",
       "       'NN', 'CC', 'VB', 'PRP$', 'JJ', 'NNS'], dtype='<U4')"
      ]
     },
     "execution_count": 145,
     "metadata": {},
     "output_type": "execute_result"
    }
   ],
   "source": [
    "gold"
   ]
  },
  {
   "cell_type": "code",
   "execution_count": null,
   "metadata": {},
   "outputs": [],
   "source": []
  }
 ],
 "metadata": {
  "kernelspec": {
   "display_name": "Python 3",
   "language": "python",
   "name": "python3"
  },
  "language_info": {
   "codemirror_mode": {
    "name": "ipython",
    "version": 3
   },
   "file_extension": ".py",
   "mimetype": "text/x-python",
   "name": "python",
   "nbconvert_exporter": "python",
   "pygments_lexer": "ipython3",
   "version": "3.7.3"
  }
 },
 "nbformat": 4,
 "nbformat_minor": 2
}
