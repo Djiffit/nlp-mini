{
 "cells": [
  {
   "cell_type": "code",
   "execution_count": 10,
   "metadata": {},
   "outputs": [
    {
     "name": "stdout",
     "output_type": "stream",
     "text": [
      "['One morning I shot an elephant in my pajamas.', \"How he got into my pajamas I'll never know.\"]\n",
      "['One', 'morning', 'I', 'shot', 'an', 'elephant', 'in', 'my', 'pajamas', '.']\n",
      "[('One', 'CD'), ('morning', 'NN'), ('I', 'PRP'), ('shot', 'VBP'), ('an', 'DT'), ('elephant', 'NN'), ('in', 'IN'), ('my', 'PRP$'), ('pajamas', 'NN'), ('.', '.')]\n",
      "['elephant', 'go', 'go', 'going', 'went', 'gone']\n",
      "{'and', 'your', 'him', 'both', 'above', \"aren't\", 'are', 'those', 'for', 'why', 'theirs', 'down', \"she's\", 'below', 'being', 'once', 'more', 'any', 'with', 'hasn', 'ma', \"that'll\", 'were', 'he', 'in', 'each', 'shouldn', 'these', 'ourselves', \"hadn't\", 'as', 'about', \"won't\", \"wouldn't\", 'off', 'yours', 'will', 'so', 'does', 'because', 'you', 'of', 'now', 'here', 'having', 'very', 'not', 's', 'y', 'by', 'o', 'didn', \"shouldn't\", 'but', 'to', 'hers', 'few', 'whom', 'i', \"didn't\", 'his', 'through', 'its', 'themselves', 'a', 'up', 'own', 'an', 'myself', \"you're\", 'that', 'what', 'on', 'm', 'out', \"wasn't\", 'hadn', 'all', 'where', 'who', 'other', 'weren', 'do', 'then', 'than', 'am', 'no', 'doing', 'aren', 'when', 'doesn', 'her', 'between', 'into', 'itself', 'it', 'while', 'should', 'if', 'their', \"needn't\", 'be', 'until', 'under', 'd', \"hasn't\", 'over', \"should've\", 'been', 'herself', 'me', \"don't\", 'just', 'most', 're', \"you'd\", \"isn't\", 'this', 'had', 'the', 'before', \"you'll\", 'couldn', 'or', 'against', 'll', 'needn', 'again', 'don', 'mightn', 'isn', 'was', 't', 'ain', 'same', \"doesn't\", 'shan', 'wasn', \"mightn't\", 'yourself', 'wouldn', 'after', 'himself', 'they', 'there', 'how', \"it's\", 'only', \"mustn't\", \"shan't\", 'we', 'some', \"couldn't\", 'mustn', 'such', 'my', 'ours', 'have', 'she', 'did', 'at', 'too', 'can', 'which', 'nor', 'them', 'is', 'further', 'has', 've', 'haven', 'won', 'our', 'yourselves', \"haven't\", \"you've\", \"weren't\", 'during', 'from'}\n"
     ]
    }
   ],
   "source": [
    "from nltk.tokenize import sent_tokenize, word_tokenize\n",
    "from nltk.tag import pos_tag\n",
    "from nltk.corpus import stopwords\n",
    "from nltk.stem import WordNetLemmatizer\n",
    "\n",
    "lemmatizer = WordNetLemmatizer() # used to lemmatize words.\n",
    "\n",
    "text = \"One morning I shot an elephant in my pajamas. How he got into my pajamas I'll never know.\" # by Groucho Marx\n",
    "\n",
    "sentences = sent_tokenize(text)\n",
    "print(sentences)\n",
    "\n",
    "words = word_tokenize(sentences[0])\n",
    "print(words)\n",
    "\n",
    "pos = pos_tag(words)\n",
    "print(pos)\n",
    "\n",
    "print([lemmatizer.lemmatize(w) for w in ['elephants', 'go', 'goes', 'going', 'went', 'gone']])\n",
    "\n",
    "stopWords = set(stopwords.words('english'))\n",
    "print(stopWords)\n"
   ]
  },
  {
   "cell_type": "code",
   "execution_count": 11,
   "metadata": {},
   "outputs": [],
   "source": [
    "import spacy"
   ]
  },
  {
   "cell_type": "code",
   "execution_count": null,
   "metadata": {},
   "outputs": [],
   "source": []
  }
 ],
 "metadata": {
  "kernelspec": {
   "display_name": "Python 3",
   "language": "python",
   "name": "python3"
  },
  "language_info": {
   "codemirror_mode": {
    "name": "ipython",
    "version": 3
   },
   "file_extension": ".py",
   "mimetype": "text/x-python",
   "name": "python",
   "nbconvert_exporter": "python",
   "pygments_lexer": "ipython3",
   "version": "3.6.4"
  }
 },
 "nbformat": 4,
 "nbformat_minor": 2
}
